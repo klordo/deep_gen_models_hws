{
  "cells": [
    {
      "cell_type": "markdown",
      "metadata": {
        "id": "view-in-github",
        "colab_type": "text"
      },
      "source": [
        "<a href=\"https://colab.research.google.com/github/klordo/deep_gen_models_hws/blob/hw2/gen_hw2.ipynb\" target=\"_parent\"><img src=\"https://colab.research.google.com/assets/colab-badge.svg\" alt=\"Open In Colab\"/></a>"
      ]
    },
    {
      "cell_type": "markdown",
      "metadata": {
        "id": "rit8XteJzniB"
      },
      "source": [
        "# Генеративно-сотязательные сети, DCGUN"
      ]
    },
    {
      "cell_type": "code",
      "execution_count": null,
      "metadata": {
        "id": "VWkR6hqP3TKt"
      },
      "outputs": [],
      "source": [
        "import torch\n",
        "import torch.nn as nn\n",
        "import torch.optim as optim\n",
        "import torchvision\n",
        "import torchvision.transforms as transforms\n",
        "import torchvision.datasets as datasets\n",
        "import numpy as np\n",
        "import os\n",
        "import zipfile\n",
        "import matplotlib.pyplot as plt\n",
        "\n",
        "from torch.utils.data import DataLoader, Dataset, random_split\n",
        "from sklearn.model_selection import train_test_split\n",
        "from IPython.display import clear_output\n",
        "from PIL import Image\n",
        "from pathlib import Path\n",
        "from tqdm import tqdm\n"
      ]
    },
    {
      "cell_type": "markdown",
      "metadata": {
        "id": "zX8JoXiH1v8w"
      },
      "source": [
        "## Generator"
      ]
    },
    {
      "cell_type": "code",
      "execution_count": null,
      "metadata": {
        "id": "cRGtiW9o2dWs"
      },
      "outputs": [],
      "source": [
        "class CSPBlock(nn.Module):\n",
        "    def __init__(self, in_channels, out_channels, hidden_channels=None):\n",
        "        super(CSPBlock, self).__init__()\n",
        "        if hidden_channels is None:\n",
        "            hidden_channels = out_channels\n",
        "        self.conv1 = nn.Conv2d(in_channels, hidden_channels, kernel_size=3, padding=1, bias=False)\n",
        "        self.bn1 = nn.BatchNorm2d(hidden_channels)\n",
        "        self.relu = nn.LeakyReLU(0.2, inplace=True)\n",
        "        self.conv2 = nn.Conv2d(hidden_channels, out_channels, kernel_size=3, padding=1, bias=False)\n",
        "        self.bn2 = nn.BatchNorm2d(out_channels)\n",
        "        self.shortcut = nn.Sequential()\n",
        "        if in_channels != out_channels:\n",
        "            self.shortcut = nn.Sequential(\n",
        "                nn.Conv2d(in_channels, out_channels, kernel_size=1, bias=False),\n",
        "                nn.BatchNorm2d(out_channels)\n",
        "            )\n",
        "\n",
        "    def forward(self, x):\n",
        "        out = self.relu(self.bn1(self.conv1(x)))\n",
        "        out = self.bn2(self.conv2(out))\n",
        "        out += self.shortcut(x)\n",
        "        out = self.relu(out)\n",
        "        return out\n",
        "\n",
        "class Generator(nn.Module):\n",
        "    def __init__(self, z_dim, img_channels, features_g):\n",
        "        super(Generator, self).__init__()\n",
        "        self.gen = nn.Sequential(\n",
        "            self._block(z_dim, features_g * 16, 4, 1, 0),\n",
        "            CSPBlock(features_g * 16, features_g * 8),\n",
        "\n",
        "            self._block(features_g * 8, features_g * 4, 4, 2, 1),\n",
        "            CSPBlock(features_g * 4, features_g * 2),\n",
        "\n",
        "            self._block(features_g * 2, features_g, 4, 2, 1),\n",
        "            CSPBlock(features_g, features_g),\n",
        "\n",
        "            nn.ConvTranspose2d(features_g, img_channels, kernel_size=4, stride=2, padding=1, output_padding=0),\n",
        "            nn.ReLU(inplace=True),\n",
        "            nn.ConvTranspose2d(img_channels, img_channels, kernel_size=4, stride=2, padding=1, output_padding=0),\n",
        "            nn.Tanh()\n",
        "        )\n",
        "\n",
        "    def _block(self, in_channels, out_channels, kernel_size, stride, padding):\n",
        "        return nn.Sequential(\n",
        "            nn.ConvTranspose2d(\n",
        "                in_channels,\n",
        "                out_channels,\n",
        "                kernel_size,\n",
        "                stride,\n",
        "                padding,\n",
        "                bias=False,\n",
        "            ),\n",
        "            nn.BatchNorm2d(out_channels),\n",
        "            nn.ReLU(True),\n",
        "        )\n",
        "\n",
        "    def forward(self, input):\n",
        "        return self.gen(input)"
      ]
    },
    {
      "cell_type": "markdown",
      "metadata": {
        "id": "Le0lLrEy3T9q"
      },
      "source": [
        "## Discriminator"
      ]
    },
    {
      "cell_type": "code",
      "execution_count": null,
      "metadata": {
        "id": "tfhslk_z4YPc"
      },
      "outputs": [],
      "source": [
        "class Discriminator(nn.Module):\n",
        "    def __init__(self, img_channels, features_d):\n",
        "        super(Discriminator, self).__init__()\n",
        "        self.disc = nn.Sequential(\n",
        "            nn.Conv2d(img_channels, features_d, kernel_size=4, stride=2, padding=1),\n",
        "            nn.LeakyReLU(0.2, inplace=True),\n",
        "            self._block(features_d, features_d * 2, 4, 2, 1),\n",
        "            self._block(features_d * 2, features_d * 4, 4, 2, 1),\n",
        "            self._block(features_d * 4, features_d * 8, 4, 2, 1),\n",
        "            nn.Conv2d(features_d * 8, 1, kernel_size=4, stride=2, padding=0),\n",
        "            nn.Sigmoid()\n",
        "        )\n",
        "\n",
        "    def _block(self, in_channels, out_channels, kernel_size, stride, padding):\n",
        "        return nn.Sequential(\n",
        "            nn.Conv2d(in_channels, out_channels, kernel_size, stride, padding, bias=False),\n",
        "            nn.BatchNorm2d(out_channels),\n",
        "            nn.LeakyReLU(0.2, inplace=True)\n",
        "        )\n",
        "\n",
        "    def forward(self, x):\n",
        "        return self.disc(x)"
      ]
    },
    {
      "cell_type": "markdown",
      "metadata": {
        "id": "eEBBdMXa4cAr"
      },
      "source": [
        "## Dataset"
      ]
    },
    {
      "cell_type": "code",
      "execution_count": null,
      "metadata": {
        "id": "kA27iuSJY-ZH"
      },
      "outputs": [],
      "source": [
        "class CelebADataset(Dataset):\n",
        "    def __init__(self, image_dir: str | Path, transform=None):\n",
        "        self.image_dir = image_dir\n",
        "        self.transform = transform\n",
        "        self.images = os.listdir(image_dir)\n",
        "\n",
        "    def __len__(self):\n",
        "        return len(self.images)\n",
        "\n",
        "    def __getitem__(self, idx):\n",
        "        img_name = os.path.join(self.image_dir, self.images[idx])\n",
        "        image = Image.open(img_name).convert('RGB')\n",
        "\n",
        "        if self.transform:\n",
        "            image = self.transform(image)\n",
        "\n",
        "        image = image.unsqueeze(0)\n",
        "\n",
        "        return image"
      ]
    },
    {
      "cell_type": "markdown",
      "metadata": {
        "id": "t6qWzqCsZuOq"
      },
      "source": [
        "## Обучение"
      ]
    },
    {
      "cell_type": "code",
      "execution_count": null,
      "metadata": {
        "colab": {
          "base_uri": "https://localhost:8080/"
        },
        "id": "1PSiEc-7zWZN",
        "outputId": "c0ef4e72-bae1-48d0-bf27-2fd79c93cadb"
      },
      "outputs": [
        {
          "output_type": "stream",
          "name": "stdout",
          "text": [
            "Mounted at /content/drive\n"
          ]
        }
      ],
      "source": [
        "from google.colab import drive\n",
        "drive.mount('/content/drive')"
      ]
    },
    {
      "cell_type": "code",
      "execution_count": null,
      "metadata": {
        "id": "huCHM-kDYfKv"
      },
      "outputs": [],
      "source": [
        "image_path = '/content/drive/MyDrive/img_align_celeba/img_align_celeba/'\n",
        "# image_path = '/content/drive/MyDrive/img_align_celeba/few_imgs/'"
      ]
    },
    {
      "cell_type": "code",
      "execution_count": null,
      "metadata": {
        "id": "ZJJwaDBlW7rf"
      },
      "outputs": [],
      "source": [
        "transform = transforms.Compose([\n",
        "    transforms.Resize(64),\n",
        "    transforms.CenterCrop(64),\n",
        "    transforms.ToTensor(),\n",
        "    transforms.Normalize((0.5, 0.5, 0.5), (0.5, 0.5, 0.5)),\n",
        "])\n",
        "\n",
        "# Почему-то часто выходят ошибки Input/output error, но раза с третьего срабатывает\n",
        "celeba_dataset = CelebADataset(image_dir=image_path, transform=transform)"
      ]
    },
    {
      "cell_type": "code",
      "execution_count": null,
      "metadata": {
        "id": "x8h5MHZ-cIx_"
      },
      "outputs": [],
      "source": [
        "train_size = int(0.8 * len(celeba_dataset))\n",
        "test_size = len(celeba_dataset) - train_size\n",
        "\n",
        "train_dataset, test_dataset = random_split(celeba_dataset, [train_size, test_size])"
      ]
    },
    {
      "cell_type": "code",
      "execution_count": null,
      "metadata": {
        "colab": {
          "base_uri": "https://localhost:8080/"
        },
        "id": "Ssfwd1UH7DfO",
        "outputId": "d9c630d3-11ac-417e-9093-a92c9f7ec397"
      },
      "outputs": [
        {
          "output_type": "stream",
          "name": "stdout",
          "text": [
            "Загружено изображений: 63628\n",
            "Train: 50902\n",
            "Test: 12726\n"
          ]
        }
      ],
      "source": [
        "batch_siza = 32\n",
        "train_dataloader = torch.utils.data.DataLoader(train_dataset, batch_size=batch_siza, shuffle=True, num_workers=2)\n",
        "test_dataloader = torch.utils.data.DataLoader(test_dataset, batch_size=batch_siza, shuffle=True, num_workers=2)\n",
        "\n",
        "print(f\"Загружено изображений: {len(celeba_dataset)}\")\n",
        "print(f\"Train: {len(train_dataset)}\")\n",
        "print(f\"Test: {len(test_dataset)}\")"
      ]
    },
    {
      "cell_type": "code",
      "execution_count": null,
      "metadata": {
        "id": "b7Ypbz8JZzf1",
        "colab": {
          "base_uri": "https://localhost:8080/"
        },
        "outputId": "d2a43065-5b03-4046-9b96-7e2e396c6a74"
      },
      "outputs": [
        {
          "output_type": "execute_result",
          "data": {
            "text/plain": [
              "device(type='cuda')"
            ]
          },
          "metadata": {},
          "execution_count": 12
        }
      ],
      "source": [
        "device = torch.device(\"cuda\" if torch.cuda.is_available() else \"cpu\")\n",
        "device"
      ]
    },
    {
      "cell_type": "code",
      "execution_count": null,
      "metadata": {
        "id": "yUqbgI1dZ2fi"
      },
      "outputs": [],
      "source": [
        "z_dim = 100  # шум\n",
        "img_channels = 3  # RGB\n",
        "features_d = 128\n",
        "features_g = 128"
      ]
    },
    {
      "cell_type": "code",
      "execution_count": null,
      "metadata": {
        "id": "gcRlAUd3Ia0a"
      },
      "outputs": [],
      "source": [
        "generator = Generator(z_dim, img_channels, features_g).to(device)"
      ]
    },
    {
      "cell_type": "code",
      "execution_count": null,
      "metadata": {
        "id": "DYJwBn8vIcaJ"
      },
      "outputs": [],
      "source": [
        "discriminator = Discriminator(img_channels, features_d).to(device)"
      ]
    },
    {
      "cell_type": "code",
      "execution_count": null,
      "metadata": {
        "id": "nMS7R7_2aMhV"
      },
      "outputs": [],
      "source": [
        "lr = 0.0001\n",
        "beta1 = 0.5\n",
        "optimizerG = optim.Adam(generator.parameters(), lr=lr, betas=(beta1, 0.999))\n",
        "optimizerD = optim.Adam(discriminator.parameters(), lr=lr, betas=(beta1, 0.999))"
      ]
    },
    {
      "cell_type": "code",
      "execution_count": null,
      "metadata": {
        "id": "ZbQvabU-aN74"
      },
      "outputs": [],
      "source": [
        "criterion = nn.BCELoss()"
      ]
    },
    {
      "cell_type": "code",
      "execution_count": null,
      "metadata": {
        "id": "e908sT9caRlT"
      },
      "outputs": [],
      "source": [
        "def train(train_dataloader):\n",
        "    G_losses = []\n",
        "    D_losses = []\n",
        "\n",
        "    for data in tqdm(train_dataloader):\n",
        "        discriminator.zero_grad()\n",
        "        real_cpu = data[0].to(device)\n",
        "        b_size = real_cpu.size(0)\n",
        "        output = discriminator(real_cpu).view(-1)\n",
        "        label = torch.full((b_size,), 1., dtype=torch.float, device=device)\n",
        "        errD_real = criterion(output, label)\n",
        "        errD_real.backward()\n",
        "        D_x = output.mean().item()\n",
        "\n",
        "        noise = torch.randn(b_size, z_dim, 1, 1, device=device)\n",
        "        fake = generator(noise)\n",
        "        label.fill_(0.)\n",
        "        output = discriminator(fake.detach()).view(-1)\n",
        "        errD_fake = criterion(output, label)\n",
        "        errD_fake.backward()\n",
        "        D_G_z1 = output.mean().item()\n",
        "        errD = errD_real + errD_fake\n",
        "        optimizerD.step()\n",
        "\n",
        "        generator.zero_grad()\n",
        "        label.fill_(1.)\n",
        "        output = discriminator(fake).view(-1)\n",
        "        errG = criterion(output, label)\n",
        "        errG.backward()\n",
        "        D_G_z2 = output.mean().item()\n",
        "        optimizerG.step()\n",
        "\n",
        "        G_losses.append(errG.item())\n",
        "        D_losses.append(errD.item())\n",
        "\n",
        "    return G_losses[::10], D_losses[::10]"
      ]
    },
    {
      "cell_type": "code",
      "execution_count": null,
      "metadata": {
        "id": "CKtjyRuW49gV"
      },
      "outputs": [],
      "source": [
        "@torch.inference_mode()\n",
        "def test(dataloader):\n",
        "    G_losses = []\n",
        "    D_losses = []\n",
        "\n",
        "    for data in tqdm(dataloader):\n",
        "        real_cpu = data[0].to(device)\n",
        "        b_size = real_cpu.size(0)\n",
        "        output = discriminator(real_cpu).view(-1)\n",
        "        label = torch.full((b_size,), 1., dtype=torch.float, device=device)\n",
        "        errD_real = criterion(output, label)\n",
        "        D_x = output.mean().item()\n",
        "\n",
        "        noise = torch.randn(b_size, z_dim, 1, 1, device=device)\n",
        "        fake = generator(noise)\n",
        "        label.fill_(0.)\n",
        "        output = discriminator(fake.detach()).view(-1)\n",
        "        errD_fake = criterion(output, label)\n",
        "        D_G_z1 = output.mean().item()\n",
        "        errD = errD_real + errD_fake\n",
        "\n",
        "        label.fill_(1.)\n",
        "        output = discriminator(fake).view(-1)\n",
        "        errG = criterion(output, label)\n",
        "        D_G_z2 = output.mean().item()\n",
        "\n",
        "        G_losses.append(errG.item())\n",
        "        D_losses.append(errD.item())\n",
        "\n",
        "    return G_losses[::10], D_losses[::10]"
      ]
    },
    {
      "cell_type": "code",
      "execution_count": null,
      "metadata": {
        "id": "iRAUKD2IaVuo"
      },
      "outputs": [],
      "source": [
        "def train_loop(train_dataloader, test_dataloader, num_epochs=5):\n",
        "    G_losses_train, D_losses_train = [], []\n",
        "    G_losses_test, D_losses_test = [], []\n",
        "\n",
        "    fig, axs = plt.subplots(1, 2, figsize=(12, 5))\n",
        "\n",
        "    for epoch in range(num_epochs):\n",
        "\n",
        "        G_losses_train_temp, D_losses_train_temp = train(train_dataloader)\n",
        "        G_losses_test_temp, D_losses_test_temp = test(test_dataloader)\n",
        "\n",
        "        G_losses_train.extend(G_losses_train_temp)\n",
        "        G_losses_test.extend(G_losses_test_temp)\n",
        "        D_losses_train.extend(D_losses_train_temp)\n",
        "        D_losses_test.extend(D_losses_test_temp)\n",
        "\n",
        "        axs[0].clear()\n",
        "        axs[1].clear()\n",
        "\n",
        "        axs[0].set_title(\"Generator and Discriminator Loss (Training)\")\n",
        "        axs[0].plot(G_losses_train, label=\"G (Train)\")\n",
        "        axs[0].plot(D_losses_train, label=\"D (Train)\")\n",
        "        axs[0].set_xlabel(\"Iterations\")\n",
        "        axs[0].set_ylabel(\"Loss\")\n",
        "        axs[0].legend()\n",
        "\n",
        "        axs[1].set_title(\"Generator and Discriminator Loss (Test)\")\n",
        "        axs[1].plot(G_losses_test, label=\"G (Test)\")\n",
        "        axs[1].plot(D_losses_test, label=\"D (Test)\")\n",
        "        axs[1].set_xlabel(\"Iterations\")\n",
        "        axs[1].set_ylabel(\"Loss\")\n",
        "        axs[1].legend()\n",
        "\n",
        "        axs[0].set_xlim(0, 20)\n",
        "        axs[1].set_xlim(0, 20)\n",
        "\n",
        "        clear_output(wait=True)\n",
        "        display(fig)"
      ]
    },
    {
      "cell_type": "code",
      "execution_count": null,
      "metadata": {
        "colab": {
          "base_uri": "https://localhost:8080/",
          "height": 957
        },
        "id": "AHysConMQPGm",
        "outputId": "615a7bd2-0073-42fe-a1df-f761020b00d0"
      },
      "outputs": [
        {
          "output_type": "display_data",
          "data": {
            "text/plain": [
              "<Figure size 1200x500 with 2 Axes>"
            ],
            "image/png": "[encoded data removed]"
          },
          "metadata": {}
        },
        {
          "output_type": "display_data",
          "data": {
            "text/plain": [
              "<Figure size 1200x500 with 2 Axes>"
            ],
            "image/png": "[encoded data removed]"
          },
          "metadata": {}
        }
      ],
      "source": [
        "train_loop(train_dataloader, test_dataloader)"
      ]
    },
    {
      "cell_type": "code",
      "execution_count": null,
      "metadata": {
        "id": "2q7WbVOJCHLC",
        "colab": {
          "base_uri": "https://localhost:8080/"
        },
        "outputId": "02ed639d-697d-44c9-fa34-1f3fb0f0b525"
      },
      "outputs": [
        {
          "output_type": "execute_result",
          "data": {
            "text/plain": [
              "torch.Size([1, 3, 64, 64])"
            ]
          },
          "metadata": {},
          "execution_count": 26
        }
      ],
      "source": [
        "generator.eval()\n",
        "noise = torch.randn(1, z_dim, 1, 1, device=device)\n",
        "fake = generator(noise)\n",
        "fake.shape"
      ]
    },
    {
      "cell_type": "code",
      "execution_count": null,
      "metadata": {
        "id": "okiMhVSuD9OM",
        "colab": {
          "base_uri": "https://localhost:8080/",
          "height": 470
        },
        "outputId": "602f457b-c3cf-4e9f-8974-a4b3a6271a9b"
      },
      "outputs": [
        {
          "output_type": "stream",
          "name": "stderr",
          "text": [
            "WARNING:matplotlib.image:Clipping input data to the valid range for imshow with RGB data ([0..1] for floats or [0..255] for integers).\n"
          ]
        },
        {
          "output_type": "display_data",
          "data": {
            "text/plain": [
              "<Figure size 640x480 with 1 Axes>"
            ],
            "image/png": "[encoded data removed]"
          },
          "metadata": {}
        }
      ],
      "source": [
        "def show_and_save_tensor_images(tensor):\n",
        "    if tensor.dim() != 4:\n",
        "        raise ValueError(\"Тензор должен быть 4-мерным [b, c, h, w]\")\n",
        "\n",
        "    # (b, c, h, w) -> (b, h, w, c)\n",
        "    tensor = tensor.permute(0, 2, 3, 1)\n",
        "\n",
        "    images = tensor.cpu().detach().numpy()\n",
        "\n",
        "    for i, image in enumerate(images):\n",
        "        plt.imshow(image)\n",
        "        plt.title(f\"Image {i+1}\")\n",
        "        plt.show()\n",
        "\n",
        "        pil_img = Image.fromarray((image * 255).astype('uint8'))\n",
        "        pil_img.save(f\"image_{i+1}.png\")\n",
        "\n",
        "show_and_save_tensor_images(fake)"
      ]
    },
    {
      "cell_type": "code",
      "execution_count": null,
      "metadata": {
        "id": "ulmcJFwFELzM"
      },
      "outputs": [],
      "source": []
    }
  ],
  "metadata": {
    "accelerator": "GPU",
    "colab": {
      "gpuType": "T4",
      "provenance": [],
      "include_colab_link": true
    },
    "kernelspec": {
      "display_name": "Python 3",
      "name": "python3"
    },
    "language_info": {
      "name": "python"
    }
  },
  "nbformat": 4,
  "nbformat_minor": 0
}